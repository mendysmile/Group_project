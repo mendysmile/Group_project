{
 "cells": [
  {
   "cell_type": "code",
   "execution_count": null,
   "metadata": {},
   "outputs": [],
   "source": [
    "from keras.models import load_model\n",
    "import pandas as pd\n",
    "import numpy as np\n",
    "import pymongo\n",
    "from gensim.models.keyedvectors import KeyedVectors\n",
    "import jieba\n",
    "# 引用Web Server套件\n",
    "from flask import Flask, request, abort\n",
    "# 從linebot 套件包裡引用 LineBotApi 與 WebhookHandler 類別\n",
    "from linebot import (\n",
    "    LineBotApi, WebhookHandler, WebhookParser\n",
    ")\n",
    "# 引用無效簽章錯誤\n",
    "from linebot.exceptions import (\n",
    "    InvalidSignatureError, LineBotApiError\n",
    ")\n",
    "from geopy.distance import geodesic\n",
    "import pandas as pd\n",
    "import json\n",
    "from linebot.models import *\n",
    "from sklearn.externals import joblib #jbolib模块\n",
    "from sklearn.utils import shuffle\n",
    "from sklearn.model_selection import cross_validate\n",
    "from sklearn.model_selection import train_test_split\n",
    "import pandas as pd\n",
    "import numpy as np\n",
    "import matplotlib.pyplot as plt\n",
    "import seaborn as sns\n",
    "import matplotlib.ticker as ticker\n",
    "import matplotlib.ticker as plticker\n",
    "from sklearn.model_selection import train_test_split\n",
    "from sklearn.ensemble import *\n",
    "from sklearn.neighbors import *\n",
    "from sklearn.datasets import make_classification\n",
    "import xgboost as xgb\n",
    "from sklearn.discriminant_analysis import LinearDiscriminantAnalysis\n",
    "from sklearn.linear_model import LogisticRegression\n",
    "from sklearn.naive_bayes import GaussianNB\n",
    "from sklearn.ensemble import RandomForestClassifier, VotingClassifier\n",
    "from sklearn.gaussian_process import GaussianProcessClassifier\n",
    "from sklearn.naive_bayes import BernoulliNB\n",
    "from sklearn.tree import DecisionTreeClassifier\n",
    "from sklearn.tree import ExtraTreeClassifier\n",
    "from sklearn.ensemble import ExtraTreesClassifier\n",
    "from sklearn.datasets import make_multilabel_classification\n",
    "from sklearn.multioutput import MultiOutputClassifier\n",
    "from sklearn.multiclass import OneVsOneClassifier\n",
    "from sklearn.multiclass import OneVsRestClassifier\n",
    "from sklearn.multiclass import OutputCodeClassifier\n",
    "import warnings\n",
    "from sklearn.model_selection import train_test_split\n",
    "from sklearn.svm import SVC\n",
    "import xgboost as xgb\n",
    "from sklearn.datasets import load_boston\n",
    "from sklearn.model_selection import train_test_split\n",
    "from sklearn.metrics import r2_score, auc"
   ]
  },
  {
   "cell_type": "code",
   "execution_count": null,
   "metadata": {},
   "outputs": [],
   "source": [
    "#引入按鍵模板\n",
    "from linebot.models.template import(\n",
    "    ButtonsTemplate\n",
    ")\n",
    "# 載入基礎設定檔\n",
    "secretFileContentJson=json.load(open(\"line_secret_key\",'r',encoding=\"utf-8\"))\n",
    "server_url=secretFileContentJson.get(\"server_url\")"
   ]
  },
  {
   "cell_type": "code",
   "execution_count": null,
   "metadata": {},
   "outputs": [],
   "source": [
    "# 設定Server啟用細節\n",
    "app = Flask(__name__,static_url_path = \"/images\" , static_folder = \"./images/\")"
   ]
  },
  {
   "cell_type": "code",
   "execution_count": null,
   "metadata": {
    "lines_to_next_cell": 1
   },
   "outputs": [],
   "source": [
    "# 生成實體物件\n",
    "line_bot_api = LineBotApi(secretFileContentJson.get(\"channel_access_token\"))\n",
    "handler = WebhookHandler(secretFileContentJson.get(\"secret_key\"))"
   ]
  },
  {
   "cell_type": "code",
   "execution_count": null,
   "metadata": {
    "lines_to_next_cell": 1
   },
   "outputs": [],
   "source": [
    "# 啟動server對外接口，使Line能丟消息進來\n",
    "@app.route(\"/\", methods=['POST'])\n",
    "def callback():\n",
    "    # get X-Line-Signature header value\n",
    "    signature = request.headers['X-Line-Signature']\n",
    "\n",
    "    # get request body as text\n",
    "    body = request.get_data(as_text=True)\n",
    "    app.logger.info(\"Request body: \" + body)\n",
    "\n",
    "    # handle webhook body\n",
    "    try:\n",
    "        handler.handle(body, signature)\n",
    "    except InvalidSignatureError:\n",
    "        abort(400)\n",
    "    return 'OK'"
   ]
  },
  {
   "cell_type": "code",
   "execution_count": null,
   "metadata": {
    "lines_to_next_cell": 1
   },
   "outputs": [],
   "source": [
    "def inputs(list_1):\n",
    "    for n,i in enumerate(list_1):\n",
    "        try:\n",
    "            list_1[n]=int(i)\n",
    "        except:\n",
    "            list_1[n]=0\n",
    "    mean = [26.9859331, 30.2746547, 0.467701106, 741277.863,0.582340575, 2.10021023]\n",
    "    std = [4.61549746, 47.8120109, 0.807741531, 1397767.31,0.493173428, 0.626818273] \n",
    "    userdf = pd.DataFrame(columns=[\"age\",\"serveTime\",\"Loan\",\"SalPerY\",\"holdCard\",\"Career\"])\n",
    "    userdf.loc[0] = list_1\n",
    "    userdf -= mean\n",
    "    userdf /= std\n",
    "    userdf = userdf.astype(float)\n",
    "    model = load_model('model.h5')\n",
    "    preds = model.predict(userdf)\n",
    "    qq = np.where(preds==np.max(preds))\n",
    "#     print(preds)\n",
    "    #print(max(preds))\n",
    "#     print(preds.item(np.argmax(preds))) \n",
    "    list_2=['0萬~5萬','5萬~10萬','10萬~15萬','15萬~20萬','20萬~25萬','25萬~30萬','30萬~35萬','35萬~40萬','40萬~45萬','45萬~50萬','50萬~55萬','55萬~60萬',\n",
    "            '60萬~65萬','65萬~70萬','70萬~75萬','75萬~80萬','80萬~85萬','85萬~90萬','90萬~95萬','95萬~100萬']\n",
    "    return str(list_2[qq])\n",
    "\n",
    "    preds = model.predict(userdf)\n",
    "#     print(preds)\n",
    "    #print(max(preds))\n",
    "    pp=np.argmax(preds)\n",
    "#     print(preds.item(np.argmax(preds)))\n",
    "    list_2=['2萬~4.5萬','4.5萬~9.5萬','9.5萬~19.5萬','19.5萬~29.5萬','29.5萬以上']\n",
    "    return str(list_2[pp])"
   ]
  },
  {
   "cell_type": "code",
   "execution_count": 7,
   "metadata": {},
   "outputs": [
    {
     "data": {
      "text/plain": [
       "(array([0], dtype=int64),)"
      ]
     },
     "execution_count": 7,
     "metadata": {},
     "output_type": "execute_result"
    }
   ],
   "source": [
    "qq"
   ]
  },
  {
   "cell_type": "code",
   "execution_count": 19,
   "metadata": {},
   "outputs": [
    {
     "name": "stdout",
     "output_type": "stream",
     "text": [
      "15萬~20萬\n"
     ]
    }
   ],
   "source": [
    "import pandas as pd\n",
    "from keras.models import load_model\n",
    "import numpy as np\n",
    "train_data_range = [36.000000, 1284.1109, 3.0000000, 24980000,1.0000000, 3.000000]\n",
    "train_data_min = [ 20.0, -6.11089842,  0.00000000,  20000.0000,0.00000000,  1.0000000]\n",
    "userdf = pd.DataFrame(columns=[\"age\",\"serveTime\",\"Loan\",\"SalPerY\",\"holdCard\",\"Career\"])\n",
    "userdf.loc[0] =55,120,0,777777,3,0\n",
    "userdf -= train_data_min\n",
    "userdf /= train_data_range\n",
    "userdf = userdf.astype(float)\n",
    "model = load_model('model.h5')\n",
    "preds = model.predict(userdf)\n",
    "qq = np.where(preds[0]==np.max(preds[0]))\n",
    "#     print(preds)\n",
    "#print(max(preds))\n",
    "#     print(preds.item(np.argmax(preds))) \n",
    "list_2=['0萬~5萬','5萬~10萬','10萬~15萬','15萬~20萬','20萬~25萬','25萬~30萬','30萬~35萬','35萬~40萬','40萬~45萬','45萬~50萬','50萬~55萬','55萬~60萬',\n",
    "            '60萬~65萬','65萬~70萬','70萬~75萬','75萬~80萬','80萬~85萬','85萬~90萬','90萬~95萬','95萬~100萬']\n",
    "print(list_2[qq[0][0]])"
   ]
  },
  {
   "cell_type": "code",
   "execution_count": 17,
   "metadata": {},
   "outputs": [],
   "source": [
    "小綠 = pd.DataFrame(columns=[\"age\",\"serveTime\",\"Loan\",\"SalPerY\",\"holdCard\",\"Career\"])\n",
    "小綠.loc[0]=8,120,4,600000,1,1\n",
    "小綠.loc[1]=28,12,0,6000000,0,0\n",
    "小綠.loc[2]=28,12,0,87,2,0\n",
    "小綠.loc[3]=28,120,0,1050000,3,0\n",
    "小綠.loc[4]=50,200,2,2000000,2,1\n",
    "小綠.loc[5]=20,10,0,550000,3,0\n",
    "小綠.loc[6]=25,102,0,800000,2,0\n",
    "小綠.loc[7]=30,120,0,1400000,3,0\n",
    "小綠.loc[8]=44,102,0,300000,2,0\n",
    "小綠.loc[9]=55,120,0,777777,3,0\n",
    "小綠.loc[10]=28,72,0,800000,2,0"
   ]
  },
  {
   "cell_type": "code",
   "execution_count": 18,
   "metadata": {},
   "outputs": [
    {
     "data": {
      "text/plain": [
       "[(array([0], dtype=int64),),\n",
       " (array([6], dtype=int64),),\n",
       " (array([0], dtype=int64),),\n",
       " (array([2], dtype=int64),),\n",
       " (array([6], dtype=int64),),\n",
       " (array([1], dtype=int64),),\n",
       " (array([1], dtype=int64),),\n",
       " (array([2], dtype=int64),),\n",
       " (array([2], dtype=int64),),\n",
       " (array([3], dtype=int64),),\n",
       " (array([1], dtype=int64),)]"
      ]
     },
     "execution_count": 18,
     "metadata": {},
     "output_type": "execute_result"
    }
   ],
   "source": [
    "# 因為先前輸入時有先標準化,因此輸入也要標準化\n",
    "小綠 -= train_data_min\n",
    "小綠 /= train_data_range\n",
    "#轉array\n",
    "小綠 = 小綠.astype(float)\n",
    "# 小綠 = np.array(小綠).astype(float)\n",
    "# 他給出的是每一群的機率(相加為一)\n",
    "preds = model.predict(小綠)\n",
    "#接著我們找出裡面機率最大的值的所在位子\n",
    "[np.where(preds[i]==np.max(preds[i]))for i in range(11)]"
   ]
  },
  {
   "cell_type": "code",
   "execution_count": null,
   "metadata": {},
   "outputs": [],
   "source": [
    "mean"
   ]
  },
  {
   "cell_type": "code",
   "execution_count": null,
   "metadata": {
    "lines_to_next_cell": 1
   },
   "outputs": [],
   "source": [
    "def managePredict(event, mtext):  #處理LIFF傳回的FORM資料\n",
    "    flist = mtext[3:].split('/')  #去除前三個「#」字元再分解字串\n",
    "    flist[1]=str(int(flist[1])*12+int(flist[2]))\n",
    "    flist[4]=str(int(flist[4])*10000)\n",
    "    item1 = int(flist[0])  #取得輸入資料\n",
    "    item2 = int(flist[1])\n",
    "    item3 = int(flist[3])\n",
    "    item4 = int(flist[4])\n",
    "    item5 = int(flist[5])\n",
    "    item6 = int(flist[6])\n",
    "#     text1 = \"您輸入的資料如下：\"\n",
    "#     text1 += \"\\n年齡：\"+ flist[0]\n",
    "#     text1 += \"\\n年資：\"+ flist[1] +\"個月\"\n",
    "#     text1 += \"\\n年薪：\"+ flist[4] +\"元\"\n",
    "#     text1 += \"\\n職業：\"+ flist[6]\n",
    "#     text1 += \"\\n有無貸款：\"+ flist[3]\n",
    "#     text1 += \"\\n有無持卡：\"+ flist[5]\n",
    "    list_1=[item1, item2, item3, item4, item5, item6]\n",
    "    quota=inputs(list_1)\n",
    "    dict_mongodb = {'age': item1, 'serve_time': item2, 'loan': item3, 'sal_per_year': item4, 'hold_card': item5,\n",
    "                    'career': item6, 'quota': quota}\n",
    "    client = pymongo.MongoClient(host='123.241.175.34', port=27017)\n",
    "    client.admin.authenticate('root', '1qaz@WSX3edc')\n",
    "    db = client.predict\n",
    "    db.quota.insert_one(dict_mongodb)\n",
    "    client.close()\n",
    "    text1 = \"您的預估額度為：\"+ quota\n",
    "    try:\n",
    "        message = TextSendMessage(  #顯示資料\n",
    "            text = text1\n",
    "        )\n",
    "        line_bot_api.reply_message(event.reply_token, message)\n",
    "    except:\n",
    "        line_bot_api.reply_message(event.reply_token, TextSendMessage(text='發生錯誤！'))"
   ]
  },
  {
   "cell_type": "code",
   "execution_count": null,
   "metadata": {
    "lines_to_next_cell": 1
   },
   "outputs": [],
   "source": [
    "# 0.撈出存在excel的向量轉為matrix\n",
    "def get_article_matrix(article, i):\n",
    "    aa = article.loc[:, [\"article_vector_matrix\"]][i:i + 1]\n",
    "    # 轉ARRAY再轉list\n",
    "    b = np.array(aa)\n",
    "    b = b[0].tolist()  # list\n",
    "    # 切\n",
    "    c = str(b[0]).split(',')\n",
    "    article_matrix = np.mat(c).astype(float)\n",
    "    return (article_matrix)"
   ]
  },
  {
   "cell_type": "code",
   "execution_count": null,
   "metadata": {},
   "outputs": [],
   "source": [
    "# 1.載入檔案\n",
    "article = pd.read_excel(r\"/app/article_news_vector _final.xlsx\")\n",
    "articles_matrix = [get_article_matrix(article, i) for i in range(5594)]"
   ]
  },
  {
   "cell_type": "code",
   "execution_count": null,
   "metadata": {
    "lines_to_next_cell": 1
   },
   "outputs": [],
   "source": [
    "# 2.載入bin檔\n",
    "wv_from_bin = KeyedVectors.load_word2vec_format(r'/app/100win20min_count3cbow1.bin',binary=True)"
   ]
  },
  {
   "cell_type": "code",
   "execution_count": null,
   "metadata": {
    "lines_to_next_cell": 1
   },
   "outputs": [],
   "source": [
    "# 3.輸入文字\n",
    "def please_input_words(rlist):\n",
    "    # 斷詞\n",
    "    wordlist = jieba.lcut(rlist, cut_all=False)\n",
    "    print(wordlist)\n",
    "    input_vector_matrix = get_article_avgvector(wordlist)\n",
    "    print()\n",
    "    print(\"這幾個字的平均向量是:\")\n",
    "    print(input_vector_matrix)\n",
    "    return (input_vector_matrix)"
   ]
  },
  {
   "cell_type": "code",
   "execution_count": null,
   "metadata": {
    "lines_to_next_cell": 1
   },
   "outputs": [],
   "source": [
    "# 4.獲取輸入詞的平均向量\n",
    "def get_article_avgvector(wordlist):\n",
    "    # 取每篇文章平均向量\n",
    "    # x=np.matrix(wv_from_bin[word])安安?\n",
    "    len_wordlist = 0\n",
    "    input_avgvector_matrix = 0\n",
    "    for word in wordlist:\n",
    "        try:\n",
    "            x = np.matrix(wv_from_bin[word])\n",
    "            input_avgvector_matrix += x\n",
    "            len_wordlist += 1\n",
    "        except:\n",
    "            pass\n",
    "    if type(input_avgvector_matrix) == int:\n",
    "        input_avgvector_matrix = np.matrix(wv_from_bin['購物'])\n",
    "    else:\n",
    "        input_avgvector_matrix = input_avgvector_matrix / len_wordlist\n",
    "    return (input_avgvector_matrix)"
   ]
  },
  {
   "cell_type": "code",
   "execution_count": null,
   "metadata": {
    "lines_to_next_cell": 1
   },
   "outputs": [],
   "source": [
    "# 5.餘弦相似度\n",
    "def cos_similar(vector_a, vector_b):\n",
    "    \"\"\"\n",
    "    计算两个向量之间的余弦相似度\n",
    "    :param vector_a: 向量 a\n",
    "    :param vector_b: 向量 b\n",
    "    :return: sim\n",
    "    \"\"\"\n",
    "    vector_a = np.mat(vector_a)\n",
    "    vector_b = np.mat(vector_b)\n",
    "    num = float(vector_a * vector_b.T)\n",
    "    denom = np.linalg.norm(vector_a) * np.linalg.norm(vector_b)\n",
    "    cos = num / denom\n",
    "    similar = 0.5 + 0.5 * cos\n",
    "    return similar"
   ]
  },
  {
   "cell_type": "code",
   "execution_count": null,
   "metadata": {
    "lines_to_next_cell": 1
   },
   "outputs": [],
   "source": [
    "# 測試開始_餘弦相似度\n",
    "def manageRecommend(event, mtext):\n",
    "    rlist = mtext[1:]\n",
    "    input_vector_matrix = please_input_words(rlist)\n",
    "    most_similar_article = cosine_similar_find_article(rlist, input_vector_matrix)\n",
    "    text_1 = str(most_similar_article)\n",
    "    try:\n",
    "        message = TextSendMessage(  # 顯示資料\n",
    "            text=text_1\n",
    "        )\n",
    "        line_bot_api.reply_message(event.reply_token, message)\n",
    "    except:\n",
    "        line_bot_api.reply_message(event.reply_token, TextSendMessage(text='發生錯誤！'))"
   ]
  },
  {
   "cell_type": "code",
   "execution_count": null,
   "metadata": {
    "lines_to_next_cell": 1
   },
   "outputs": [],
   "source": [
    "# 比對\n",
    "def cosine_similar_find_article(rlist, input_vector_matrix):\n",
    "    articles_matrix_list = []\n",
    "    for b in range(5594):\n",
    "        result = cos_similar(input_vector_matrix, articles_matrix[b])\n",
    "        articles_matrix_list.append(result)\n",
    "    print(\"第\", articles_matrix_list.index(max(articles_matrix_list)), \"篇新聞最相似\")\n",
    "    most_similar = articles_matrix_list.index(max(articles_matrix_list))\n",
    "    most_similar_article = np.array(article[most_similar:most_similar + 1]['content'])[0]\n",
    "    print(\"文章內文為:\", \"\\n\", \"\\n\", \"------------------------------------------------------------\", \"\\n\",\n",
    "          np.array(article[most_similar:most_similar + 1]['content'])[0])\n",
    "    return most_similar_article"
   ]
  },
  {
   "cell_type": "code",
   "execution_count": null,
   "metadata": {
    "lines_to_next_cell": 1
   },
   "outputs": [],
   "source": [
    "df_store_list=pd.read_excel(r'/app/store_location.xlsx',encoding='utf-16',index_col=0)\n",
    "def manageLocation(event, latitude, longitude):\n",
    "    lat = latitude\n",
    "    lng = longitude\n",
    "    neardf = near_by_info(lat,lng)\n",
    "    text_1 = neardf\n",
    "    try:\n",
    "        message = TextSendMessage(  #顯示資料\n",
    "            text = text_1\n",
    "        )\n",
    "        line_bot_api.reply_message(event.reply_token, message)\n",
    "    except:\n",
    "        line_bot_api.reply_message(event.reply_token, TextSendMessage(text='發生錯誤！'))\n",
    "def near_by_info(lat, lng):\n",
    "    store=[]\n",
    "    addr=[]\n",
    "    info=[]\n",
    "    distance=[]\n",
    "    for i in range(len(df_store_list)):\n",
    "        address=(df_store_list['lat'][i],df_store_list['lng'][i])\n",
    "        #計算當下位置與商家位置距離\n",
    "        dist=geodesic(address,(lat,lng)).kilometers\n",
    "        #若小於3公里\n",
    "        if dist<3:\n",
    "            store.append(df_store_list['store'][i])\n",
    "            if df_store_list['store'][i]=='屈臣氏':\n",
    "                info.append('刷LINEPay卡5%回饋')\n",
    "            elif df_store_list['store'][i]=='美廉社':\n",
    "                info.append('刷LINEPay卡2%回饋')\n",
    "            addr.append(df_store_list['address'][i])\n",
    "            distance.append(str(round(dist,2))+'km')\n",
    "    neardf = pd.DataFrame({'店家':store,'優惠內容':info,'地址':addr,'距離':distance},columns=['店家','優惠內容','地址','距離'])\n",
    "    if len(neardf)==0:\n",
    "        neardf = '附近沒有優惠店家'\n",
    "        return neardf\n",
    "    elif len(neardf)<=5:\n",
    "        neardf=str(neardf)\n",
    "        return neardf\n",
    "    elif len(neardf)>5:\n",
    "        neardf=neardf.sort_values(by='距離')[:5]\n",
    "        neardf=str(neardf)\n",
    "        return neardf"
   ]
  },
  {
   "cell_type": "code",
   "execution_count": null,
   "metadata": {},
   "outputs": [],
   "source": [
    "# 消息清單\n",
    "reply_message_list = [\n",
    "TextSendMessage(text=\"關注信手卡來，找到適合你的卡片。\"),\n",
    "    TextSendMessage(text=\"哈囉！😊歡迎加入信手卡來，我們提供關於信用卡💳的各種資訊，歡迎點擊您有興趣的功能喔！😄\"),\n",
    "    ImageSendMessage(original_content_url='https://i.imgur.com/YXXiCvZ.jpg',\n",
    "    preview_image_url='https://i.imgur.com/Zs6btto.jpg'),\n",
    "    ImageSendMessage(original_content_url='https://i.imgur.com/x0vZwjt.jpg',\n",
    "    preview_image_url='https://i.imgur.com/GEVyxIt.jpg')\n",
    "]"
   ]
  },
  {
   "cell_type": "code",
   "execution_count": null,
   "metadata": {},
   "outputs": [],
   "source": [
    "# 預測額度流程\n",
    "reply_message_list_predict = [\n",
    "TextSendMessage(text=\"想知道您的核卡額度？🤔輸入下列訊息，我們就會幫您預測喔！😉\"),\n",
    "    TemplateSendMessage(\n",
    "     alt_text='Buttons template',\n",
    "      template=ButtonsTemplate(\n",
    "      title='信用卡核卡額度',\n",
    "    text='輸入訊息，開始預測',\n",
    "    actions=[\n",
    "      {\n",
    "        \"type\": \"uri\",\n",
    "        \"label\": \"開始預測\",\n",
    "        \"uri\": \"line://app/1653471513-2vnJK4EJ\"\n",
    "      }\n",
    "    ],\n",
    "  )\n",
    "  )\n",
    "]"
   ]
  },
  {
   "cell_type": "code",
   "execution_count": null,
   "metadata": {},
   "outputs": [],
   "source": [
    "# 新聞推薦流程\n",
    "reply_message_list_news = [\n",
    "TextSendMessage(text=\"您想知道哪一類的信用卡相關資訊呢？點選下方按鈕或是輸入@加上您感興趣的內容，例如:@我想知道2020最強神卡，我們就會提供相關訊息給您🙂\"),\n",
    "ImagemapSendMessage(\n",
    "    base_url='https://i.imgur.com/Ohn59DU.png#',\n",
    "    alt_text='新聞推薦',\n",
    "    base_size=BaseSize(height=1686, width=2500),\n",
    "    actions=[\n",
    "        MessageImagemapAction(\n",
    "            text='#旅遊優惠新聞',\n",
    "            area=ImagemapArea(\n",
    "                x=178, y=71, width=986, height=407\n",
    "            )\n",
    "        ),\n",
    "        MessageImagemapAction(\n",
    "            text='#行動支付新聞',\n",
    "            area=ImagemapArea(\n",
    "                x=768, y=619, width=970, height=414\n",
    "            )\n",
    "        ),\n",
    "        MessageImagemapAction(\n",
    "            text='#交通加油新聞',\n",
    "            area=ImagemapArea(\n",
    "                x=183, y=1152, width=970, height=440\n",
    "            )\n",
    "        ),\n",
    "        MessageImagemapAction(\n",
    "            text='#促銷活動新聞',\n",
    "            area=ImagemapArea(\n",
    "                x=1327, y=47, width=999, height=416\n",
    "            )\n",
    "        ),\n",
    "        MessageImagemapAction(\n",
    "            text='#繳費繳稅新聞',\n",
    "            area=ImagemapArea(\n",
    "                x=1330, y=1140, width=966, height=436\n",
    "            )\n",
    "        )\n",
    "    ]\n",
    ")\n",
    "]"
   ]
  },
  {
   "cell_type": "code",
   "execution_count": null,
   "metadata": {},
   "outputs": [],
   "source": [
    "# 卡片推薦流程\n",
    "reply_message_list_recommend = [\n",
    "TextSendMessage(text=\"不知道哪張信用卡適合自己嗎？😥讓我們來幫你挑選適合您的卡片吧！🤗\"),\n",
    "    TemplateSendMessage(\n",
    "     alt_text='Buttons template',\n",
    "      template=ButtonsTemplate(\n",
    "      thumbnail_image_url='https://i.imgur.com/lNxWpfE.png',\n",
    "        title='您想要什麼樣的卡片？',\n",
    "        text='您是初次辦卡？還是已經有信用卡了呢？',\n",
    "    actions=[\n",
    "      {\n",
    "        \"type\": \"uri\",\n",
    "        \"label\": \"已持有：類似卡片推薦\",\n",
    "        \"uri\": \"https://.ngrok.io/card\"\n",
    "      },\n",
    "      {\n",
    "        \"type\": \"uri\",\n",
    "        \"label\": \"初辦卡：卡片功能推薦\",\n",
    "        \"uri\": \"https://.ngrok.io\"\n",
    "      }\n",
    "    ],\n",
    "  )\n",
    "  )\n",
    "]"
   ]
  },
  {
   "cell_type": "code",
   "execution_count": null,
   "metadata": {},
   "outputs": [],
   "source": [
    "#統計資料\n",
    "reply_message_list_statics = [\n",
    "    TemplateSendMessage(\n",
    "     alt_text='Buttons template',\n",
    "      template=ButtonsTemplate(\n",
    "      title='使用者統計資訊',\n",
    "    text='觀看統計資訊',\n",
    "    actions=[\n",
    "      {\n",
    "        \"type\": \"uri\",\n",
    "        \"label\": \"立即前往\",\n",
    "        \"uri\": \"http://.ngrok.io/kibana\"\n",
    "      }\n",
    "    ],\n",
    "  )\n",
    "  )\n",
    "]"
   ]
  },
  {
   "cell_type": "code",
   "execution_count": null,
   "metadata": {},
   "outputs": [],
   "source": [
    "#用戶行動軌跡\n",
    "reply_message_list_googlemap = [\n",
    "    TemplateSendMessage(\n",
    "     alt_text='Buttons template',\n",
    "      template=ButtonsTemplate(\n",
    "        title='用戶行動軌跡',\n",
    "        text='請點選您想觀看的行動軌跡資料',\n",
    "    actions=[\n",
    "      {\n",
    "        \"type\": \"uri\",\n",
    "        \"label\": \"行動軌跡(不含停留點)\",\n",
    "        \"uri\": \"https://.ngrok.io/tracking_map\"\n",
    "      },\n",
    "      {\n",
    "        \"type\": \"uri\",\n",
    "        \"label\": \"行動軌跡(含停留點)\",\n",
    "        \"uri\": \"https://.ngrok.io/stay_point_map\"\n",
    "      }\n",
    "    ],\n",
    "  )\n",
    "  )\n",
    "]\n",
    "'''\n",
    "\n",
    "設計一個字典\n",
    "    當用戶輸入相應文字消息時，系統會從此挑揀消息\n",
    "\n",
    "'''"
   ]
  },
  {
   "cell_type": "code",
   "execution_count": null,
   "metadata": {},
   "outputs": [],
   "source": [
    "# 根據自定義菜單故事線的圖，設定相對應訊息\n",
    "template_message_dict = {\n",
    "    \"[::text:]請幫我預測核卡額度\":reply_message_list_predict,\n",
    "    \"[::text:]請給我相關新聞\":reply_message_list_news,\n",
    "    \"[::text:]請幫我推薦信用卡\":reply_message_list_recommend,\n",
    "    \"[::text:]請給我相關統計資料\":reply_message_list_statics,\n",
    "    \"[::text:]請給我用戶行動軌跡\":reply_message_list_googlemap,\n",
    "}"
   ]
  },
  {
   "cell_type": "code",
   "execution_count": null,
   "metadata": {
    "lines_to_next_cell": 1
   },
   "outputs": [],
   "source": [
    "'''\n",
    "\n",
    "當用戶發出文字消息時，判斷文字內容是否包含[::text:]，\n",
    "    若有，則從template_message_dict 內找出相關訊息\n",
    "當用戶發出文字消息含有###時，進入額度預測功能\n",
    "當用戶發出文字消息含有@時，進入新聞推薦功能\n",
    "\n",
    "'''"
   ]
  },
  {
   "cell_type": "code",
   "execution_count": null,
   "metadata": {
    "lines_to_next_cell": 1
   },
   "outputs": [],
   "source": [
    "# 用戶發出文字消息時， 按條件內容, 回傳文字消息\n",
    "@handler.add(MessageEvent, message=TextMessage)\n",
    "def handle_message(event):\n",
    "    if (event.message.text.find('::text:') != -1):\n",
    "        #         print(event.message.text)\n",
    "        line_bot_api.reply_message(\n",
    "            event.reply_token,\n",
    "            template_message_dict.get(event.message.text)\n",
    "        )\n",
    "    elif event.message.text.find('###') != -1 and len(event.message.text) > 3:\n",
    "        managePredict(event, event.message.text)\n",
    "    elif event.message.text.find('@') != -1 and len(event.message.text) > 2:\n",
    "        manageRecommend(event, event.message.text)\n",
    "    elif event.message.text == \"#旅遊優惠新聞\":\n",
    "        article = pd.read_excel(r\"/app/article_news_vector _final_30_1225.xlsx\")\n",
    "        a = np.random.randint(len(np.array(article[article['label'] == 29]['content'])))\n",
    "        text_1 = str(np.array(article[article['label'] == 29]['content'])[a])\n",
    "        try:\n",
    "            message = TextSendMessage(  # 顯示資料\n",
    "                text=text_1\n",
    "            )\n",
    "            line_bot_api.reply_message(event.reply_token, message)\n",
    "        except:\n",
    "            line_bot_api.reply_message(event.reply_token, TextSendMessage(text='發生錯誤！'))\n",
    "    elif event.message.text == \"#行動支付新聞\":\n",
    "        article = pd.read_excel(r\"/app/article_news_vector _final_30_1225.xlsx\")\n",
    "        b = np.random.randint(len(np.array(article[article['label'] == 13]['content'])))\n",
    "        text_1 = str(np.array(article[article['label'] == 13]['content'])[b])\n",
    "        try:\n",
    "            message = TextSendMessage(  # 顯示資料\n",
    "                text=text_1\n",
    "            )\n",
    "            line_bot_api.reply_message(event.reply_token, message)\n",
    "        except:\n",
    "            line_bot_api.reply_message(event.reply_token, TextSendMessage(text='發生錯誤！'))\n",
    "    elif event.message.text == \"#交通加油新聞\":\n",
    "        article = pd.read_excel(r\"/app/article_news_vector _final_30_1225.xlsx\")\n",
    "        c = np.random.randint(len(np.array(article[article['label'] == 23]['content'])))\n",
    "        text_1 = str(np.array(article[article['label'] == 23]['content'])[c])\n",
    "        try:\n",
    "            message = TextSendMessage(  # 顯示資料\n",
    "                text=text_1\n",
    "            )\n",
    "            line_bot_api.reply_message(event.reply_token, message)\n",
    "        except:\n",
    "            line_bot_api.reply_message(event.reply_token, TextSendMessage(text='發生錯誤！'))\n",
    "    elif event.message.text == \"#促銷活動新聞\":\n",
    "        article = pd.read_excel(r\"/app/article_news_vector _final_30_1225.xlsx\")\n",
    "        d = np.random.randint(len(np.array(article[article['label'] == 0]['content'])))\n",
    "        text_1 = str(np.array(article[article['label'] == 0]['content'])[d])\n",
    "        try:\n",
    "            message = TextSendMessage(  # 顯示資料\n",
    "                text=text_1\n",
    "            )\n",
    "            line_bot_api.reply_message(event.reply_token, message)\n",
    "        except:\n",
    "            line_bot_api.reply_message(event.reply_token, TextSendMessage(text='發生錯誤！'))\n",
    "    elif event.message.text == \"#繳費繳稅新聞\":\n",
    "        article = pd.read_excel(r\"/app/article_news_vector _final_30_1225.xlsx\")\n",
    "        e = np.random.randint(len(np.array(article[article['label'] == 26]['content'])))\n",
    "        text_1 = str(np.array(article[article['label'] == 26]['content'])[e])\n",
    "        try:\n",
    "            message = TextSendMessage(  # 顯示資料\n",
    "                text=text_1\n",
    "            )\n",
    "            line_bot_api.reply_message(event.reply_token, message)\n",
    "        except:\n",
    "            line_bot_api.reply_message(event.reply_token, TextSendMessage(text='發生錯誤！'))"
   ]
  },
  {
   "cell_type": "code",
   "execution_count": null,
   "metadata": {
    "lines_to_next_cell": 1
   },
   "outputs": [],
   "source": [
    "# #用戶傳送地理位置後，取其經緯度\n",
    "@handler.add(MessageEvent, message=LocationMessage)\n",
    "def handle_post_message(event):\n",
    "    latitude=event.message.latitude\n",
    "    longitude=event.message.longitude\n",
    "    manageLocation(event, latitude, longitude)\n",
    "#     print(event.message.latitude)\n",
    "#     print(event.message.longitude)"
   ]
  },
  {
   "cell_type": "code",
   "execution_count": null,
   "metadata": {},
   "outputs": [],
   "source": [
    "'''\n",
    "\n",
    "撰寫用戶關注時，我們要處理的商業邏輯\n",
    "1. 取得用戶個資，並存回伺服器\n",
    "2. 把先前製作好的自定義菜單，與用戶做綁定\n",
    "3. 回應用戶，歡迎用的文字消息與圖片消息\n",
    "\n",
    "'''"
   ]
  },
  {
   "cell_type": "code",
   "execution_count": null,
   "metadata": {
    "lines_to_next_cell": 1
   },
   "outputs": [],
   "source": [
    "# 載入Follow事件\n",
    "from linebot.models.events import (\n",
    "    FollowEvent\n",
    ")"
   ]
  },
  {
   "cell_type": "code",
   "execution_count": null,
   "metadata": {
    "lines_to_next_cell": 1
   },
   "outputs": [],
   "source": [
    "# 告知handler，如果收到FollowEvent，則做下面的方法處理\n",
    "@handler.add(FollowEvent)\n",
    "def reply_text_and_get_user_profile(event):\n",
    "    # 取出消息內User的資料\n",
    "    user_profile = line_bot_api.get_profile(event.source.user_id)\n",
    "\n",
    "    # 將用戶資訊存在檔案內\n",
    "    with open(\"/app/users.txt\", \"a\") as myfile:\n",
    "        myfile.write(json.dumps(vars(user_profile), sort_keys=True))\n",
    "        myfile.write('\\r\\n')\n",
    "\n",
    "        # 將菜單綁定在用戶身上\n",
    "    linkRichMenuId = secretFileContentJson.get(\"rich_menu_id\")\n",
    "    linkResult = line_bot_api.link_rich_menu_to_user(secretFileContentJson[\"self_user_id\"], linkRichMenuId)\n",
    "\n",
    "    # 回覆文字消息與圖片消息\n",
    "    line_bot_api.reply_message(\n",
    "        event.reply_token,\n",
    "        reply_message_list\n",
    "    )"
   ]
  },
  {
   "cell_type": "code",
   "execution_count": null,
   "metadata": {},
   "outputs": [],
   "source": [
    "'''\n",
    "\n",
    "執行此句，啟動Server，觀察後，按左上方塊，停用Server\n",
    "\n",
    "'''"
   ]
  },
  {
   "cell_type": "code",
   "execution_count": null,
   "metadata": {},
   "outputs": [],
   "source": [
    "if __name__ == \"__main__\":\n",
    "    app.run(host='0.0.0.0', threaded=False)"
   ]
  }
 ],
 "metadata": {
  "jupytext": {
   "cell_metadata_filter": "-all",
   "encoding": "# -*- coding: utf-8 -*-",
   "notebook_metadata_filter": "-all",
   "text_representation": {
    "extension": ".py",
    "format_name": "light"
   }
  },
  "kernelspec": {
   "display_name": "Python 3",
   "language": "python",
   "name": "python3"
  },
  "language_info": {
   "codemirror_mode": {
    "name": "ipython",
    "version": 3
   },
   "file_extension": ".py",
   "mimetype": "text/x-python",
   "name": "python",
   "nbconvert_exporter": "python",
   "pygments_lexer": "ipython3",
   "version": "3.7.4"
  }
 },
 "nbformat": 4,
 "nbformat_minor": 2
}
